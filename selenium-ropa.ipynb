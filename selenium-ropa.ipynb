{
 "cells": [
  {
   "cell_type": "markdown",
   "metadata": {},
   "source": [
    "# Selenium "
   ]
  },
  {
   "cell_type": "code",
   "execution_count": 1,
   "metadata": {},
   "outputs": [],
   "source": [
    "from selenium import webdriver\n",
    "from selenium.webdriver.chrome.options import Options\n",
    "import time\n",
    "import pandas as pd\n",
    "from selenium.webdriver.support.ui import Select\n",
    "from webdriver_manager.chrome import ChromeDriverManager\n",
    "import pandas as pd\n",
    "import seaborn as sns"
   ]
  },
  {
   "cell_type": "code",
   "execution_count": 2,
   "metadata": {},
   "outputs": [],
   "source": [
    "# Matplotlib inline para visualizar los gráficos de Matplotlib\n",
    "%matplotlib inline\n",
    "%config Inlinebackend.figure_format= 'retina'\n",
    "# Configuración para setear y que todas las fig de Seaborn salgan por defecto con este tamaño\n",
    "# Se puede especificar el tamaño de cada figura\n",
    "sns.set_context(\"poster\")\n",
    "sns.set(rc={\"figure.figsize\": (12.,6.)})\n",
    "sns.set_style(\"whitegrid\")"
   ]
  },
  {
   "cell_type": "markdown",
   "metadata": {},
   "source": [
    "## Balones de balonmano\n",
    "Vamos a scrapear una página de balones de balonmano"
   ]
  },
  {
   "cell_type": "code",
   "execution_count": 3,
   "metadata": {},
   "outputs": [
    {
     "name": "stderr",
     "output_type": "stream",
     "text": [
      "<ipython-input-3-049a54ab767c>:2: DeprecationWarning: executable_path has been deprecated, please pass in a Service object\n",
      "  driver = webdriver.Chrome(driver)\n",
      "<ipython-input-3-049a54ab767c>:5: DeprecationWarning: find_element_by_* commands are deprecated. Please use find_element() instead\n",
      "  driver.find_element_by_css_selector(\"#cookiesplus-content > div > form > div.cookiesplus-actions.col-12.col-xs-12 > div:nth-child(1) > button.cookiesplus-btn.cookiesplus-accept.float-xs-right\").click()\n",
      "<ipython-input-3-049a54ab767c>:10: DeprecationWarning: find_element_by_* commands are deprecated. Please use find_element() instead\n",
      "  a = driver.find_element_by_css_selector(f\"#center_column > div.box-content > div.product_list.grid.clearfix > div:nth-child({i}) > div > div.right-block > div.product_name_block > h5 > a\").text\n",
      "<ipython-input-3-049a54ab767c>:13: DeprecationWarning: find_element_by_* commands are deprecated. Please use find_element() instead\n",
      "  b = driver.find_element_by_css_selector(f\"#center_column > div.box-content > div.product_list.grid.clearfix > div:nth-child({i}) > div > div.right-block > div.content_price > span.price.product-price\").text\n"
     ]
    }
   ],
   "source": [
    "driver = \"./chromedriver.exe\"\n",
    "driver = webdriver.Chrome(driver)\n",
    "driver.get(\"https://www.dondeporte.com/balones-balonmano\")\n",
    "driver.implicitly_wait(2) # is like a time.sleep but specific of selenium\n",
    "driver.find_element_by_css_selector(\"#cookiesplus-content > div > form > div.cookiesplus-actions.col-12.col-xs-12 > div:nth-child(1) > button.cookiesplus-btn.cookiesplus-accept.float-xs-right\").click()\n",
    "\n",
    "lista = []\n",
    "lista_precios = []\n",
    "for i in range (1,17):\n",
    "    a = driver.find_element_by_css_selector(f\"#center_column > div.box-content > div.product_list.grid.clearfix > div:nth-child({i}) > div > div.right-block > div.product_name_block > h5 > a\").text\n",
    "    lista.append(a)\n",
    "    \n",
    "    b = driver.find_element_by_css_selector(f\"#center_column > div.box-content > div.product_list.grid.clearfix > div:nth-child({i}) > div > div.right-block > div.content_price > span.price.product-price\").text\n",
    "    lista_precios.append(b)\n",
    "    \n",
    "\n"
   ]
  },
  {
   "cell_type": "code",
   "execution_count": 4,
   "metadata": {},
   "outputs": [],
   "source": [
    "lista1 = pd.DataFrame(lista, lista_precios).reset_index()"
   ]
  },
  {
   "cell_type": "code",
   "execution_count": 5,
   "metadata": {},
   "outputs": [],
   "source": [
    "#renombramos el nombre de las cabeceras\n",
    "diccio_nuevas3 = {\"index\": \"Precio\", 0: \"Nombre\"}\n",
    "lista1.rename(columns = diccio_nuevas3, inplace=True)"
   ]
  },
  {
   "cell_type": "code",
   "execution_count": 6,
   "metadata": {},
   "outputs": [],
   "source": [
    "#hacemos esta función para poder operar sobre los precios\n",
    "def numerito(x):\n",
    "    y = '.'.join(x.split(\" \")[0].split(\",\"))\n",
    "    return float(y)"
   ]
  },
  {
   "cell_type": "code",
   "execution_count": 7,
   "metadata": {},
   "outputs": [],
   "source": [
    "lista1[\"Precio a operar\"] = lista1[\"Precio\"].apply(numerito)"
   ]
  },
  {
   "cell_type": "code",
   "execution_count": 8,
   "metadata": {},
   "outputs": [
    {
     "data": {
      "text/html": [
       "<div>\n",
       "<style scoped>\n",
       "    .dataframe tbody tr th:only-of-type {\n",
       "        vertical-align: middle;\n",
       "    }\n",
       "\n",
       "    .dataframe tbody tr th {\n",
       "        vertical-align: top;\n",
       "    }\n",
       "\n",
       "    .dataframe thead th {\n",
       "        text-align: right;\n",
       "    }\n",
       "</style>\n",
       "<table border=\"1\" class=\"dataframe\">\n",
       "  <thead>\n",
       "    <tr style=\"text-align: right;\">\n",
       "      <th></th>\n",
       "      <th>Precio</th>\n",
       "      <th>Nombre</th>\n",
       "      <th>Precio a operar</th>\n",
       "    </tr>\n",
       "  </thead>\n",
       "  <tbody>\n",
       "    <tr>\n",
       "      <th>0</th>\n",
       "      <td>9,90 €</td>\n",
       "      <td>Balón Balonmano Matt IH 730 58cm Azul</td>\n",
       "      <td>9.90</td>\n",
       "    </tr>\n",
       "    <tr>\n",
       "      <th>1</th>\n",
       "      <td>11,95 €</td>\n",
       "      <td>Balón Balonmano Softee Microcelular T/1</td>\n",
       "      <td>11.95</td>\n",
       "    </tr>\n",
       "    <tr>\n",
       "      <th>2</th>\n",
       "      <td>11,95 €</td>\n",
       "      <td>Balón Balonmano Microcelular New T/1 Verde</td>\n",
       "      <td>11.95</td>\n",
       "    </tr>\n",
       "    <tr>\n",
       "      <th>3</th>\n",
       "      <td>14,90 €</td>\n",
       "      <td>Balón Balonmano Molten H3X1700</td>\n",
       "      <td>14.90</td>\n",
       "    </tr>\n",
       "    <tr>\n",
       "      <th>4</th>\n",
       "      <td>67,90 €</td>\n",
       "      <td>Balón Balonmano Molten H3X5001</td>\n",
       "      <td>67.90</td>\n",
       "    </tr>\n",
       "    <tr>\n",
       "      <th>5</th>\n",
       "      <td>11,95 €</td>\n",
       "      <td>Balón Balonmano Microcelular New T/0 Azul</td>\n",
       "      <td>11.95</td>\n",
       "    </tr>\n",
       "    <tr>\n",
       "      <th>6</th>\n",
       "      <td>36,90 €</td>\n",
       "      <td>Balón Balonmano Molten H-X3200</td>\n",
       "      <td>36.90</td>\n",
       "    </tr>\n",
       "    <tr>\n",
       "      <th>7</th>\n",
       "      <td>25,90 €</td>\n",
       "      <td>Balón Balonmano Molten H0X2200</td>\n",
       "      <td>25.90</td>\n",
       "    </tr>\n",
       "    <tr>\n",
       "      <th>8</th>\n",
       "      <td>21,90 €</td>\n",
       "      <td>Balón Balonmano Molten H-X1800</td>\n",
       "      <td>21.90</td>\n",
       "    </tr>\n",
       "    <tr>\n",
       "      <th>9</th>\n",
       "      <td>67,90 €</td>\n",
       "      <td>Balón Balonmano Molten H2X5001</td>\n",
       "      <td>67.90</td>\n",
       "    </tr>\n",
       "    <tr>\n",
       "      <th>10</th>\n",
       "      <td>12,95 €</td>\n",
       "      <td>Balón Balonmano Softee Flash</td>\n",
       "      <td>12.95</td>\n",
       "    </tr>\n",
       "    <tr>\n",
       "      <th>11</th>\n",
       "      <td>13,95 €</td>\n",
       "      <td>Balón Balonmano Softee Flash Elite</td>\n",
       "      <td>13.95</td>\n",
       "    </tr>\n",
       "    <tr>\n",
       "      <th>12</th>\n",
       "      <td>15,90 €</td>\n",
       "      <td>Balón Balonmano Softee Super Flash</td>\n",
       "      <td>15.90</td>\n",
       "    </tr>\n",
       "    <tr>\n",
       "      <th>13</th>\n",
       "      <td>19,90 €</td>\n",
       "      <td>Balón Balonmano Softee Heros</td>\n",
       "      <td>19.90</td>\n",
       "    </tr>\n",
       "    <tr>\n",
       "      <th>14</th>\n",
       "      <td>25,90 €</td>\n",
       "      <td>Balón Balonmano Softee Addicted</td>\n",
       "      <td>25.90</td>\n",
       "    </tr>\n",
       "  </tbody>\n",
       "</table>\n",
       "</div>"
      ],
      "text/plain": [
       "     Precio                                      Nombre  Precio a operar\n",
       "0    9,90 €       Balón Balonmano Matt IH 730 58cm Azul             9.90\n",
       "1   11,95 €     Balón Balonmano Softee Microcelular T/1            11.95\n",
       "2   11,95 €  Balón Balonmano Microcelular New T/1 Verde            11.95\n",
       "3   14,90 €              Balón Balonmano Molten H3X1700            14.90\n",
       "4   67,90 €              Balón Balonmano Molten H3X5001            67.90\n",
       "5   11,95 €   Balón Balonmano Microcelular New T/0 Azul            11.95\n",
       "6   36,90 €              Balón Balonmano Molten H-X3200            36.90\n",
       "7   25,90 €              Balón Balonmano Molten H0X2200            25.90\n",
       "8   21,90 €              Balón Balonmano Molten H-X1800            21.90\n",
       "9   67,90 €              Balón Balonmano Molten H2X5001            67.90\n",
       "10  12,95 €                Balón Balonmano Softee Flash            12.95\n",
       "11  13,95 €          Balón Balonmano Softee Flash Elite            13.95\n",
       "12  15,90 €          Balón Balonmano Softee Super Flash            15.90\n",
       "13  19,90 €                Balón Balonmano Softee Heros            19.90\n",
       "14  25,90 €             Balón Balonmano Softee Addicted            25.90"
      ]
     },
     "execution_count": 8,
     "metadata": {},
     "output_type": "execute_result"
    }
   ],
   "source": [
    "lista1 = lista1.drop([10])#quitamos un bote de resina\n",
    "lista1.reset_index(drop=True)"
   ]
  },
  {
   "cell_type": "markdown",
   "metadata": {},
   "source": [
    "## Estudiamos el precio de los balones"
   ]
  },
  {
   "cell_type": "code",
   "execution_count": 23,
   "metadata": {},
   "outputs": [
    {
     "data": {
      "image/png": "[encoded data removed]",
      "text/plain": [
       "<Figure size 864x432 with 1 Axes>"
      ]
     },
     "metadata": {},
     "output_type": "display_data"
    }
   ],
   "source": [
    "sns.histplot(x=lista1[\"Precio a operar\"]);\n",
    "#hay bastante dispersión en los precios de los balones"
   ]
  },
  {
   "cell_type": "code",
   "execution_count": 21,
   "metadata": {},
   "outputs": [
    {
     "data": {
      "image/png": "[encoded data removed]",
      "text/plain": [
       "<Figure size 864x432 with 1 Axes>"
      ]
     },
     "metadata": {},
     "output_type": "display_data"
    }
   ],
   "source": [
    "sns.boxplot(x=\"Precio a operar\", data=lista1);\n",
    "#podemos ver que aunque la mayoría de balones están en torno a los 10-20 euros, hay dos cuyo precio asciende hasta los 60-70"
   ]
  },
  {
   "cell_type": "markdown",
   "metadata": {},
   "source": [
    "## Estudiamos los balones por marca"
   ]
  },
  {
   "cell_type": "code",
   "execution_count": 11,
   "metadata": {},
   "outputs": [],
   "source": [
    "def devuelvelamarca(x):\n",
    "    return x.split(\" \")[2] "
   ]
  },
  {
   "cell_type": "code",
   "execution_count": 12,
   "metadata": {},
   "outputs": [],
   "source": [
    "lista1[\"Marca\"] = lista1[\"Nombre\"].apply(devuelvelamarca)"
   ]
  },
  {
   "cell_type": "code",
   "execution_count": 13,
   "metadata": {},
   "outputs": [
    {
     "data": {
      "image/png": "[encoded data removed]",
      "text/plain": [
       "<Figure size 864x432 with 1 Axes>"
      ]
     },
     "metadata": {},
     "output_type": "display_data"
    }
   ],
   "source": [
    "sns.countplot(x=lista1.Marca);\n",
    "#podemos ver que la mayor parte de los balones son de las marcas Molten y Softee"
   ]
  },
  {
   "cell_type": "code",
   "execution_count": 15,
   "metadata": {},
   "outputs": [
    {
     "data": {
      "image/png": "[encoded data removed]",
      "text/plain": [
       "<Figure size 864x432 with 1 Axes>"
      ]
     },
     "metadata": {},
     "output_type": "display_data"
    }
   ],
   "source": [
    "sns.scatterplot(x=\"Marca\", y=\"Precio a operar\", data=lista1);\n",
    "#los balones de la marca Molten son los más caros y las marcas que tienen solo un balón corresponden a los precios más bajos"
   ]
  }
 ],
 "metadata": {
  "interpreter": {
   "hash": "7c5ad4df39bf06a9eb4fb459b3b63eb25b4f3b680f8fa78ceb9dcffa768664c7"
  },
  "kernelspec": {
   "display_name": "ironhack",
   "language": "python",
   "name": "ironhack"
  },
  "language_info": {
   "codemirror_mode": {
    "name": "ipython",
    "version": 3
   },
   "file_extension": ".py",
   "mimetype": "text/x-python",
   "name": "python",
   "nbconvert_exporter": "python",
   "pygments_lexer": "ipython3",
   "version": "3.8.5"
  },
  "toc": {
   "base_numbering": 1,
   "nav_menu": {},
   "number_sections": true,
   "sideBar": true,
   "skip_h1_title": false,
   "title_cell": "Table of Contents",
   "title_sidebar": "Contents",
   "toc_cell": true,
   "toc_position": {},
   "toc_section_display": true,
   "toc_window_display": false
  }
 },
 "nbformat": 4,
 "nbformat_minor": 2
}
