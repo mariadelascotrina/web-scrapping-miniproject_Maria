{
 "cells": [
  {
   "cell_type": "markdown",
   "metadata": {},
   "source": [
    "# Selenium "
   ]
  },
  {
   "cell_type": "code",
   "execution_count": 30,
   "metadata": {},
   "outputs": [],
   "source": [
    "from selenium import webdriver\n",
    "from selenium.webdriver.chrome.options import Options\n",
    "import time\n",
    "import pandas as pd\n",
    "from selenium.webdriver.support.ui import Select\n",
    "from webdriver_manager.chrome import ChromeDriverManager\n",
    "import pandas as pd\n",
    "import seaborn as sns"
   ]
  },
  {
   "cell_type": "code",
   "execution_count": 33,
   "metadata": {},
   "outputs": [],
   "source": [
    "# Matplotlib inline para visualizar los gráficos de Matplotlib\n",
    "%matplotlib inline\n",
    "%config Inlinebackend.figure_format= 'retina'\n",
    "# Configuración para setear y que todas las fig de Seaborn salgan por defecto con este tamaño\n",
    "# Se puede especificar el tamaño de cada figura\n",
    "sns.set_context(\"poster\")\n",
    "sns.set(rc={\"figure.figsize\": (12.,6.)})\n",
    "sns.set_style(\"whitegrid\")"
   ]
  },
  {
   "cell_type": "code",
   "execution_count": 2,
   "metadata": {},
   "outputs": [
    {
     "name": "stderr",
     "output_type": "stream",
     "text": [
      "<ipython-input-2-049a54ab767c>:2: DeprecationWarning: executable_path has been deprecated, please pass in a Service object\n",
      "  driver = webdriver.Chrome(driver)\n",
      "<ipython-input-2-049a54ab767c>:5: DeprecationWarning: find_element_by_* commands are deprecated. Please use find_element() instead\n",
      "  driver.find_element_by_css_selector(\"#cookiesplus-content > div > form > div.cookiesplus-actions.col-12.col-xs-12 > div:nth-child(1) > button.cookiesplus-btn.cookiesplus-accept.float-xs-right\").click()\n",
      "<ipython-input-2-049a54ab767c>:10: DeprecationWarning: find_element_by_* commands are deprecated. Please use find_element() instead\n",
      "  a = driver.find_element_by_css_selector(f\"#center_column > div.box-content > div.product_list.grid.clearfix > div:nth-child({i}) > div > div.right-block > div.product_name_block > h5 > a\").text\n",
      "<ipython-input-2-049a54ab767c>:13: DeprecationWarning: find_element_by_* commands are deprecated. Please use find_element() instead\n",
      "  b = driver.find_element_by_css_selector(f\"#center_column > div.box-content > div.product_list.grid.clearfix > div:nth-child({i}) > div > div.right-block > div.content_price > span.price.product-price\").text\n"
     ]
    }
   ],
   "source": [
    "driver = \"./chromedriver.exe\"\n",
    "driver = webdriver.Chrome(driver)\n",
    "driver.get(\"https://www.dondeporte.com/balones-balonmano\")\n",
    "driver.implicitly_wait(2) # is like a time.sleep but specific of selenium\n",
    "driver.find_element_by_css_selector(\"#cookiesplus-content > div > form > div.cookiesplus-actions.col-12.col-xs-12 > div:nth-child(1) > button.cookiesplus-btn.cookiesplus-accept.float-xs-right\").click()\n",
    "\n",
    "lista = []\n",
    "lista_precios = []\n",
    "for i in range (1,17):\n",
    "    a = driver.find_element_by_css_selector(f\"#center_column > div.box-content > div.product_list.grid.clearfix > div:nth-child({i}) > div > div.right-block > div.product_name_block > h5 > a\").text\n",
    "    lista.append(a)\n",
    "    \n",
    "    b = driver.find_element_by_css_selector(f\"#center_column > div.box-content > div.product_list.grid.clearfix > div:nth-child({i}) > div > div.right-block > div.content_price > span.price.product-price\").text\n",
    "    lista_precios.append(b)\n",
    "    \n",
    "\n"
   ]
  },
  {
   "cell_type": "code",
   "execution_count": 3,
   "metadata": {},
   "outputs": [
    {
     "data": {
      "text/html": [
       "<div>\n",
       "<style scoped>\n",
       "    .dataframe tbody tr th:only-of-type {\n",
       "        vertical-align: middle;\n",
       "    }\n",
       "\n",
       "    .dataframe tbody tr th {\n",
       "        vertical-align: top;\n",
       "    }\n",
       "\n",
       "    .dataframe thead th {\n",
       "        text-align: right;\n",
       "    }\n",
       "</style>\n",
       "<table border=\"1\" class=\"dataframe\">\n",
       "  <thead>\n",
       "    <tr style=\"text-align: right;\">\n",
       "      <th></th>\n",
       "      <th>index</th>\n",
       "      <th>0</th>\n",
       "    </tr>\n",
       "  </thead>\n",
       "  <tbody>\n",
       "    <tr>\n",
       "      <th>0</th>\n",
       "      <td>9,90 €</td>\n",
       "      <td>Balón Balonmano Matt IH 730 58cm Azul</td>\n",
       "    </tr>\n",
       "    <tr>\n",
       "      <th>1</th>\n",
       "      <td>11,95 €</td>\n",
       "      <td>Balón Balonmano Softee Microcelular T/1</td>\n",
       "    </tr>\n",
       "    <tr>\n",
       "      <th>2</th>\n",
       "      <td>11,95 €</td>\n",
       "      <td>Balón Balonmano Microcelular New T/1 Verde</td>\n",
       "    </tr>\n",
       "    <tr>\n",
       "      <th>3</th>\n",
       "      <td>14,90 €</td>\n",
       "      <td>Balón Balonmano Molten H3X1700</td>\n",
       "    </tr>\n",
       "    <tr>\n",
       "      <th>4</th>\n",
       "      <td>67,90 €</td>\n",
       "      <td>Balón Balonmano Molten H3X5001</td>\n",
       "    </tr>\n",
       "    <tr>\n",
       "      <th>5</th>\n",
       "      <td>11,95 €</td>\n",
       "      <td>Balón Balonmano Microcelular New T/0 Azul</td>\n",
       "    </tr>\n",
       "    <tr>\n",
       "      <th>6</th>\n",
       "      <td>36,90 €</td>\n",
       "      <td>Balón Balonmano Molten H-X3200</td>\n",
       "    </tr>\n",
       "    <tr>\n",
       "      <th>7</th>\n",
       "      <td>25,90 €</td>\n",
       "      <td>Balón Balonmano Molten H0X2200</td>\n",
       "    </tr>\n",
       "    <tr>\n",
       "      <th>8</th>\n",
       "      <td>21,90 €</td>\n",
       "      <td>Balón Balonmano Molten H-X1800</td>\n",
       "    </tr>\n",
       "    <tr>\n",
       "      <th>9</th>\n",
       "      <td>67,90 €</td>\n",
       "      <td>Balón Balonmano Molten H2X5001</td>\n",
       "    </tr>\n",
       "    <tr>\n",
       "      <th>10</th>\n",
       "      <td>14,95 €</td>\n",
       "      <td>Bote Resina Balonmano Trimona 250 G</td>\n",
       "    </tr>\n",
       "    <tr>\n",
       "      <th>11</th>\n",
       "      <td>12,95 €</td>\n",
       "      <td>Balón Balonmano Softee Flash</td>\n",
       "    </tr>\n",
       "    <tr>\n",
       "      <th>12</th>\n",
       "      <td>13,95 €</td>\n",
       "      <td>Balón Balonmano Softee Flash Elite</td>\n",
       "    </tr>\n",
       "    <tr>\n",
       "      <th>13</th>\n",
       "      <td>15,90 €</td>\n",
       "      <td>Balón Balonmano Softee Super Flash</td>\n",
       "    </tr>\n",
       "    <tr>\n",
       "      <th>14</th>\n",
       "      <td>19,90 €</td>\n",
       "      <td>Balón Balonmano Softee Heros</td>\n",
       "    </tr>\n",
       "    <tr>\n",
       "      <th>15</th>\n",
       "      <td>25,90 €</td>\n",
       "      <td>Balón Balonmano Softee Addicted</td>\n",
       "    </tr>\n",
       "  </tbody>\n",
       "</table>\n",
       "</div>"
      ],
      "text/plain": [
       "      index                                           0\n",
       "0    9,90 €       Balón Balonmano Matt IH 730 58cm Azul\n",
       "1   11,95 €     Balón Balonmano Softee Microcelular T/1\n",
       "2   11,95 €  Balón Balonmano Microcelular New T/1 Verde\n",
       "3   14,90 €              Balón Balonmano Molten H3X1700\n",
       "4   67,90 €              Balón Balonmano Molten H3X5001\n",
       "5   11,95 €   Balón Balonmano Microcelular New T/0 Azul\n",
       "6   36,90 €              Balón Balonmano Molten H-X3200\n",
       "7   25,90 €              Balón Balonmano Molten H0X2200\n",
       "8   21,90 €              Balón Balonmano Molten H-X1800\n",
       "9   67,90 €              Balón Balonmano Molten H2X5001\n",
       "10  14,95 €         Bote Resina Balonmano Trimona 250 G\n",
       "11  12,95 €                Balón Balonmano Softee Flash\n",
       "12  13,95 €          Balón Balonmano Softee Flash Elite\n",
       "13  15,90 €          Balón Balonmano Softee Super Flash\n",
       "14  19,90 €                Balón Balonmano Softee Heros\n",
       "15  25,90 €             Balón Balonmano Softee Addicted"
      ]
     },
     "execution_count": 3,
     "metadata": {},
     "output_type": "execute_result"
    }
   ],
   "source": [
    "lista1 = pd.DataFrame(lista, lista_precios).reset_index()\n",
    "lista1"
   ]
  },
  {
   "cell_type": "code",
   "execution_count": 4,
   "metadata": {},
   "outputs": [],
   "source": [
    "diccio_nuevas3 = {\"index\": \"Precio\", 0: \"Nombre\"}\n",
    "lista1.rename(columns = diccio_nuevas3, inplace=True)"
   ]
  },
  {
   "cell_type": "code",
   "execution_count": 5,
   "metadata": {},
   "outputs": [
    {
     "data": {
      "text/html": [
       "<div>\n",
       "<style scoped>\n",
       "    .dataframe tbody tr th:only-of-type {\n",
       "        vertical-align: middle;\n",
       "    }\n",
       "\n",
       "    .dataframe tbody tr th {\n",
       "        vertical-align: top;\n",
       "    }\n",
       "\n",
       "    .dataframe thead th {\n",
       "        text-align: right;\n",
       "    }\n",
       "</style>\n",
       "<table border=\"1\" class=\"dataframe\">\n",
       "  <thead>\n",
       "    <tr style=\"text-align: right;\">\n",
       "      <th></th>\n",
       "      <th>Precio</th>\n",
       "      <th>Nombre</th>\n",
       "    </tr>\n",
       "  </thead>\n",
       "  <tbody>\n",
       "    <tr>\n",
       "      <th>0</th>\n",
       "      <td>9,90 €</td>\n",
       "      <td>Balón Balonmano Matt IH 730 58cm Azul</td>\n",
       "    </tr>\n",
       "    <tr>\n",
       "      <th>1</th>\n",
       "      <td>11,95 €</td>\n",
       "      <td>Balón Balonmano Softee Microcelular T/1</td>\n",
       "    </tr>\n",
       "    <tr>\n",
       "      <th>2</th>\n",
       "      <td>11,95 €</td>\n",
       "      <td>Balón Balonmano Microcelular New T/1 Verde</td>\n",
       "    </tr>\n",
       "    <tr>\n",
       "      <th>3</th>\n",
       "      <td>14,90 €</td>\n",
       "      <td>Balón Balonmano Molten H3X1700</td>\n",
       "    </tr>\n",
       "    <tr>\n",
       "      <th>4</th>\n",
       "      <td>67,90 €</td>\n",
       "      <td>Balón Balonmano Molten H3X5001</td>\n",
       "    </tr>\n",
       "    <tr>\n",
       "      <th>5</th>\n",
       "      <td>11,95 €</td>\n",
       "      <td>Balón Balonmano Microcelular New T/0 Azul</td>\n",
       "    </tr>\n",
       "    <tr>\n",
       "      <th>6</th>\n",
       "      <td>36,90 €</td>\n",
       "      <td>Balón Balonmano Molten H-X3200</td>\n",
       "    </tr>\n",
       "    <tr>\n",
       "      <th>7</th>\n",
       "      <td>25,90 €</td>\n",
       "      <td>Balón Balonmano Molten H0X2200</td>\n",
       "    </tr>\n",
       "    <tr>\n",
       "      <th>8</th>\n",
       "      <td>21,90 €</td>\n",
       "      <td>Balón Balonmano Molten H-X1800</td>\n",
       "    </tr>\n",
       "    <tr>\n",
       "      <th>9</th>\n",
       "      <td>67,90 €</td>\n",
       "      <td>Balón Balonmano Molten H2X5001</td>\n",
       "    </tr>\n",
       "    <tr>\n",
       "      <th>10</th>\n",
       "      <td>14,95 €</td>\n",
       "      <td>Bote Resina Balonmano Trimona 250 G</td>\n",
       "    </tr>\n",
       "    <tr>\n",
       "      <th>11</th>\n",
       "      <td>12,95 €</td>\n",
       "      <td>Balón Balonmano Softee Flash</td>\n",
       "    </tr>\n",
       "    <tr>\n",
       "      <th>12</th>\n",
       "      <td>13,95 €</td>\n",
       "      <td>Balón Balonmano Softee Flash Elite</td>\n",
       "    </tr>\n",
       "    <tr>\n",
       "      <th>13</th>\n",
       "      <td>15,90 €</td>\n",
       "      <td>Balón Balonmano Softee Super Flash</td>\n",
       "    </tr>\n",
       "    <tr>\n",
       "      <th>14</th>\n",
       "      <td>19,90 €</td>\n",
       "      <td>Balón Balonmano Softee Heros</td>\n",
       "    </tr>\n",
       "    <tr>\n",
       "      <th>15</th>\n",
       "      <td>25,90 €</td>\n",
       "      <td>Balón Balonmano Softee Addicted</td>\n",
       "    </tr>\n",
       "  </tbody>\n",
       "</table>\n",
       "</div>"
      ],
      "text/plain": [
       "     Precio                                      Nombre\n",
       "0    9,90 €       Balón Balonmano Matt IH 730 58cm Azul\n",
       "1   11,95 €     Balón Balonmano Softee Microcelular T/1\n",
       "2   11,95 €  Balón Balonmano Microcelular New T/1 Verde\n",
       "3   14,90 €              Balón Balonmano Molten H3X1700\n",
       "4   67,90 €              Balón Balonmano Molten H3X5001\n",
       "5   11,95 €   Balón Balonmano Microcelular New T/0 Azul\n",
       "6   36,90 €              Balón Balonmano Molten H-X3200\n",
       "7   25,90 €              Balón Balonmano Molten H0X2200\n",
       "8   21,90 €              Balón Balonmano Molten H-X1800\n",
       "9   67,90 €              Balón Balonmano Molten H2X5001\n",
       "10  14,95 €         Bote Resina Balonmano Trimona 250 G\n",
       "11  12,95 €                Balón Balonmano Softee Flash\n",
       "12  13,95 €          Balón Balonmano Softee Flash Elite\n",
       "13  15,90 €          Balón Balonmano Softee Super Flash\n",
       "14  19,90 €                Balón Balonmano Softee Heros\n",
       "15  25,90 €             Balón Balonmano Softee Addicted"
      ]
     },
     "execution_count": 5,
     "metadata": {},
     "output_type": "execute_result"
    }
   ],
   "source": [
    "lista1"
   ]
  },
  {
   "cell_type": "code",
   "execution_count": 6,
   "metadata": {},
   "outputs": [
    {
     "data": {
      "text/plain": [
       "['9', '90']"
      ]
     },
     "execution_count": 6,
     "metadata": {},
     "output_type": "execute_result"
    }
   ],
   "source": [
    "lista_precios[0].split(\" \")[0].split(\",\")"
   ]
  },
  {
   "cell_type": "code",
   "execution_count": 23,
   "metadata": {},
   "outputs": [],
   "source": [
    "def numerito(x):\n",
    "    y = '.'.join(x.split(\" \")[0].split(\",\"))\n",
    "    return float(y)"
   ]
  },
  {
   "cell_type": "code",
   "execution_count": 24,
   "metadata": {},
   "outputs": [
    {
     "data": {
      "text/plain": [
       "9.9"
      ]
     },
     "execution_count": 24,
     "metadata": {},
     "output_type": "execute_result"
    }
   ],
   "source": [
    "float('.'.join(lista_precios[0].split(\" \")[0].split(\",\")))"
   ]
  },
  {
   "cell_type": "code",
   "execution_count": 25,
   "metadata": {},
   "outputs": [
    {
     "data": {
      "text/plain": [
       "'9,90 €'"
      ]
     },
     "execution_count": 25,
     "metadata": {},
     "output_type": "execute_result"
    }
   ],
   "source": [
    "lista_precios[0]"
   ]
  },
  {
   "cell_type": "code",
   "execution_count": 26,
   "metadata": {},
   "outputs": [
    {
     "data": {
      "text/plain": [
       "9.9"
      ]
     },
     "execution_count": 26,
     "metadata": {},
     "output_type": "execute_result"
    }
   ],
   "source": [
    "numerito('9,90 €')"
   ]
  },
  {
   "cell_type": "code",
   "execution_count": 27,
   "metadata": {},
   "outputs": [],
   "source": [
    "lista1[\"Precio a operar\"] = lista1[\"Precio\"].apply(numerito)"
   ]
  },
  {
   "cell_type": "code",
   "execution_count": 29,
   "metadata": {},
   "outputs": [
    {
     "data": {
      "text/html": [
       "<div>\n",
       "<style scoped>\n",
       "    .dataframe tbody tr th:only-of-type {\n",
       "        vertical-align: middle;\n",
       "    }\n",
       "\n",
       "    .dataframe tbody tr th {\n",
       "        vertical-align: top;\n",
       "    }\n",
       "\n",
       "    .dataframe thead th {\n",
       "        text-align: right;\n",
       "    }\n",
       "</style>\n",
       "<table border=\"1\" class=\"dataframe\">\n",
       "  <thead>\n",
       "    <tr style=\"text-align: right;\">\n",
       "      <th></th>\n",
       "      <th>Precio</th>\n",
       "      <th>Nombre</th>\n",
       "      <th>Precio a operar</th>\n",
       "    </tr>\n",
       "  </thead>\n",
       "  <tbody>\n",
       "    <tr>\n",
       "      <th>0</th>\n",
       "      <td>9,90 €</td>\n",
       "      <td>Balón Balonmano Matt IH 730 58cm Azul</td>\n",
       "      <td>9.90</td>\n",
       "    </tr>\n",
       "    <tr>\n",
       "      <th>1</th>\n",
       "      <td>11,95 €</td>\n",
       "      <td>Balón Balonmano Softee Microcelular T/1</td>\n",
       "      <td>11.95</td>\n",
       "    </tr>\n",
       "    <tr>\n",
       "      <th>2</th>\n",
       "      <td>11,95 €</td>\n",
       "      <td>Balón Balonmano Microcelular New T/1 Verde</td>\n",
       "      <td>11.95</td>\n",
       "    </tr>\n",
       "    <tr>\n",
       "      <th>3</th>\n",
       "      <td>14,90 €</td>\n",
       "      <td>Balón Balonmano Molten H3X1700</td>\n",
       "      <td>14.90</td>\n",
       "    </tr>\n",
       "    <tr>\n",
       "      <th>4</th>\n",
       "      <td>67,90 €</td>\n",
       "      <td>Balón Balonmano Molten H3X5001</td>\n",
       "      <td>67.90</td>\n",
       "    </tr>\n",
       "    <tr>\n",
       "      <th>5</th>\n",
       "      <td>11,95 €</td>\n",
       "      <td>Balón Balonmano Microcelular New T/0 Azul</td>\n",
       "      <td>11.95</td>\n",
       "    </tr>\n",
       "    <tr>\n",
       "      <th>6</th>\n",
       "      <td>36,90 €</td>\n",
       "      <td>Balón Balonmano Molten H-X3200</td>\n",
       "      <td>36.90</td>\n",
       "    </tr>\n",
       "    <tr>\n",
       "      <th>7</th>\n",
       "      <td>25,90 €</td>\n",
       "      <td>Balón Balonmano Molten H0X2200</td>\n",
       "      <td>25.90</td>\n",
       "    </tr>\n",
       "    <tr>\n",
       "      <th>8</th>\n",
       "      <td>21,90 €</td>\n",
       "      <td>Balón Balonmano Molten H-X1800</td>\n",
       "      <td>21.90</td>\n",
       "    </tr>\n",
       "    <tr>\n",
       "      <th>9</th>\n",
       "      <td>67,90 €</td>\n",
       "      <td>Balón Balonmano Molten H2X5001</td>\n",
       "      <td>67.90</td>\n",
       "    </tr>\n",
       "    <tr>\n",
       "      <th>10</th>\n",
       "      <td>14,95 €</td>\n",
       "      <td>Bote Resina Balonmano Trimona 250 G</td>\n",
       "      <td>14.95</td>\n",
       "    </tr>\n",
       "    <tr>\n",
       "      <th>11</th>\n",
       "      <td>12,95 €</td>\n",
       "      <td>Balón Balonmano Softee Flash</td>\n",
       "      <td>12.95</td>\n",
       "    </tr>\n",
       "    <tr>\n",
       "      <th>12</th>\n",
       "      <td>13,95 €</td>\n",
       "      <td>Balón Balonmano Softee Flash Elite</td>\n",
       "      <td>13.95</td>\n",
       "    </tr>\n",
       "    <tr>\n",
       "      <th>13</th>\n",
       "      <td>15,90 €</td>\n",
       "      <td>Balón Balonmano Softee Super Flash</td>\n",
       "      <td>15.90</td>\n",
       "    </tr>\n",
       "    <tr>\n",
       "      <th>14</th>\n",
       "      <td>19,90 €</td>\n",
       "      <td>Balón Balonmano Softee Heros</td>\n",
       "      <td>19.90</td>\n",
       "    </tr>\n",
       "    <tr>\n",
       "      <th>15</th>\n",
       "      <td>25,90 €</td>\n",
       "      <td>Balón Balonmano Softee Addicted</td>\n",
       "      <td>25.90</td>\n",
       "    </tr>\n",
       "  </tbody>\n",
       "</table>\n",
       "</div>"
      ],
      "text/plain": [
       "     Precio                                      Nombre  Precio a operar\n",
       "0    9,90 €       Balón Balonmano Matt IH 730 58cm Azul             9.90\n",
       "1   11,95 €     Balón Balonmano Softee Microcelular T/1            11.95\n",
       "2   11,95 €  Balón Balonmano Microcelular New T/1 Verde            11.95\n",
       "3   14,90 €              Balón Balonmano Molten H3X1700            14.90\n",
       "4   67,90 €              Balón Balonmano Molten H3X5001            67.90\n",
       "5   11,95 €   Balón Balonmano Microcelular New T/0 Azul            11.95\n",
       "6   36,90 €              Balón Balonmano Molten H-X3200            36.90\n",
       "7   25,90 €              Balón Balonmano Molten H0X2200            25.90\n",
       "8   21,90 €              Balón Balonmano Molten H-X1800            21.90\n",
       "9   67,90 €              Balón Balonmano Molten H2X5001            67.90\n",
       "10  14,95 €         Bote Resina Balonmano Trimona 250 G            14.95\n",
       "11  12,95 €                Balón Balonmano Softee Flash            12.95\n",
       "12  13,95 €          Balón Balonmano Softee Flash Elite            13.95\n",
       "13  15,90 €          Balón Balonmano Softee Super Flash            15.90\n",
       "14  19,90 €                Balón Balonmano Softee Heros            19.90\n",
       "15  25,90 €             Balón Balonmano Softee Addicted            25.90"
      ]
     },
     "execution_count": 29,
     "metadata": {},
     "output_type": "execute_result"
    }
   ],
   "source": [
    "lista1"
   ]
  },
  {
   "cell_type": "code",
   "execution_count": 34,
   "metadata": {},
   "outputs": [
    {
     "data": {
      "text/plain": [
       "<AxesSubplot:xlabel='Precio a operar', ylabel='Count'>"
      ]
     },
     "execution_count": 34,
     "metadata": {},
     "output_type": "execute_result"
    },
    {
     "data": {
      "image/png": "[encoded data removed]",
      "text/plain": [
       "<Figure size 864x432 with 1 Axes>"
      ]
     },
     "metadata": {},
     "output_type": "display_data"
    }
   ],
   "source": [
    "sns.histplot(x=lista1[\"Precio a operar\"])"
   ]
  },
  {
   "cell_type": "code",
   "execution_count": 35,
   "metadata": {},
   "outputs": [
    {
     "data": {
      "text/plain": [
       "<AxesSubplot:xlabel='Precio a operar'>"
      ]
     },
     "execution_count": 35,
     "metadata": {},
     "output_type": "execute_result"
    },
    {
     "data": {
      "image/png": "[encoded data removed]",
      "text/plain": [
       "<Figure size 864x432 with 1 Axes>"
      ]
     },
     "metadata": {},
     "output_type": "display_data"
    }
   ],
   "source": [
    "sns.boxplot(x=\"Precio a operar\", data=lista1)\n"
   ]
  },
  {
   "cell_type": "code",
   "execution_count": 40,
   "metadata": {},
   "outputs": [
    {
     "data": {
      "text/html": [
       "<div>\n",
       "<style scoped>\n",
       "    .dataframe tbody tr th:only-of-type {\n",
       "        vertical-align: middle;\n",
       "    }\n",
       "\n",
       "    .dataframe tbody tr th {\n",
       "        vertical-align: top;\n",
       "    }\n",
       "\n",
       "    .dataframe thead th {\n",
       "        text-align: right;\n",
       "    }\n",
       "</style>\n",
       "<table border=\"1\" class=\"dataframe\">\n",
       "  <thead>\n",
       "    <tr style=\"text-align: right;\">\n",
       "      <th></th>\n",
       "      <th>Precio</th>\n",
       "      <th>Nombre</th>\n",
       "      <th>Precio a operar</th>\n",
       "    </tr>\n",
       "  </thead>\n",
       "  <tbody>\n",
       "    <tr>\n",
       "      <th>0</th>\n",
       "      <td>9,90 €</td>\n",
       "      <td>Balón Balonmano Matt IH 730 58cm Azul</td>\n",
       "      <td>9.90</td>\n",
       "    </tr>\n",
       "    <tr>\n",
       "      <th>1</th>\n",
       "      <td>11,95 €</td>\n",
       "      <td>Balón Balonmano Softee Microcelular T/1</td>\n",
       "      <td>11.95</td>\n",
       "    </tr>\n",
       "    <tr>\n",
       "      <th>2</th>\n",
       "      <td>11,95 €</td>\n",
       "      <td>Balón Balonmano Microcelular New T/1 Verde</td>\n",
       "      <td>11.95</td>\n",
       "    </tr>\n",
       "    <tr>\n",
       "      <th>3</th>\n",
       "      <td>14,90 €</td>\n",
       "      <td>Balón Balonmano Molten H3X1700</td>\n",
       "      <td>14.90</td>\n",
       "    </tr>\n",
       "    <tr>\n",
       "      <th>4</th>\n",
       "      <td>67,90 €</td>\n",
       "      <td>Balón Balonmano Molten H3X5001</td>\n",
       "      <td>67.90</td>\n",
       "    </tr>\n",
       "    <tr>\n",
       "      <th>5</th>\n",
       "      <td>11,95 €</td>\n",
       "      <td>Balón Balonmano Microcelular New T/0 Azul</td>\n",
       "      <td>11.95</td>\n",
       "    </tr>\n",
       "    <tr>\n",
       "      <th>6</th>\n",
       "      <td>36,90 €</td>\n",
       "      <td>Balón Balonmano Molten H-X3200</td>\n",
       "      <td>36.90</td>\n",
       "    </tr>\n",
       "    <tr>\n",
       "      <th>7</th>\n",
       "      <td>25,90 €</td>\n",
       "      <td>Balón Balonmano Molten H0X2200</td>\n",
       "      <td>25.90</td>\n",
       "    </tr>\n",
       "    <tr>\n",
       "      <th>8</th>\n",
       "      <td>21,90 €</td>\n",
       "      <td>Balón Balonmano Molten H-X1800</td>\n",
       "      <td>21.90</td>\n",
       "    </tr>\n",
       "    <tr>\n",
       "      <th>9</th>\n",
       "      <td>67,90 €</td>\n",
       "      <td>Balón Balonmano Molten H2X5001</td>\n",
       "      <td>67.90</td>\n",
       "    </tr>\n",
       "    <tr>\n",
       "      <th>10</th>\n",
       "      <td>12,95 €</td>\n",
       "      <td>Balón Balonmano Softee Flash</td>\n",
       "      <td>12.95</td>\n",
       "    </tr>\n",
       "    <tr>\n",
       "      <th>11</th>\n",
       "      <td>13,95 €</td>\n",
       "      <td>Balón Balonmano Softee Flash Elite</td>\n",
       "      <td>13.95</td>\n",
       "    </tr>\n",
       "    <tr>\n",
       "      <th>12</th>\n",
       "      <td>15,90 €</td>\n",
       "      <td>Balón Balonmano Softee Super Flash</td>\n",
       "      <td>15.90</td>\n",
       "    </tr>\n",
       "    <tr>\n",
       "      <th>13</th>\n",
       "      <td>19,90 €</td>\n",
       "      <td>Balón Balonmano Softee Heros</td>\n",
       "      <td>19.90</td>\n",
       "    </tr>\n",
       "    <tr>\n",
       "      <th>14</th>\n",
       "      <td>25,90 €</td>\n",
       "      <td>Balón Balonmano Softee Addicted</td>\n",
       "      <td>25.90</td>\n",
       "    </tr>\n",
       "  </tbody>\n",
       "</table>\n",
       "</div>"
      ],
      "text/plain": [
       "     Precio                                      Nombre  Precio a operar\n",
       "0    9,90 €       Balón Balonmano Matt IH 730 58cm Azul             9.90\n",
       "1   11,95 €     Balón Balonmano Softee Microcelular T/1            11.95\n",
       "2   11,95 €  Balón Balonmano Microcelular New T/1 Verde            11.95\n",
       "3   14,90 €              Balón Balonmano Molten H3X1700            14.90\n",
       "4   67,90 €              Balón Balonmano Molten H3X5001            67.90\n",
       "5   11,95 €   Balón Balonmano Microcelular New T/0 Azul            11.95\n",
       "6   36,90 €              Balón Balonmano Molten H-X3200            36.90\n",
       "7   25,90 €              Balón Balonmano Molten H0X2200            25.90\n",
       "8   21,90 €              Balón Balonmano Molten H-X1800            21.90\n",
       "9   67,90 €              Balón Balonmano Molten H2X5001            67.90\n",
       "10  12,95 €                Balón Balonmano Softee Flash            12.95\n",
       "11  13,95 €          Balón Balonmano Softee Flash Elite            13.95\n",
       "12  15,90 €          Balón Balonmano Softee Super Flash            15.90\n",
       "13  19,90 €                Balón Balonmano Softee Heros            19.90\n",
       "14  25,90 €             Balón Balonmano Softee Addicted            25.90"
      ]
     },
     "execution_count": 40,
     "metadata": {},
     "output_type": "execute_result"
    }
   ],
   "source": [
    "#drop \n",
    "#marca\n",
    "\n",
    "lista1 = lista1.drop([10])#quitamos todas la cabeceras porque tienen el index 0 \n",
    "lista1.reset_index(drop=True)"
   ]
  },
  {
   "cell_type": "code",
   "execution_count": 41,
   "metadata": {},
   "outputs": [],
   "source": [
    "def devuelvelamarca(x):\n",
    "    return x.split(\" \")[2] "
   ]
  },
  {
   "cell_type": "code",
   "execution_count": 42,
   "metadata": {},
   "outputs": [],
   "source": [
    "lista1[\"Marca\"] = lista1[\"Nombre\"].apply(devuelvelamarca)"
   ]
  },
  {
   "cell_type": "code",
   "execution_count": 43,
   "metadata": {},
   "outputs": [
    {
     "data": {
      "text/html": [
       "<div>\n",
       "<style scoped>\n",
       "    .dataframe tbody tr th:only-of-type {\n",
       "        vertical-align: middle;\n",
       "    }\n",
       "\n",
       "    .dataframe tbody tr th {\n",
       "        vertical-align: top;\n",
       "    }\n",
       "\n",
       "    .dataframe thead th {\n",
       "        text-align: right;\n",
       "    }\n",
       "</style>\n",
       "<table border=\"1\" class=\"dataframe\">\n",
       "  <thead>\n",
       "    <tr style=\"text-align: right;\">\n",
       "      <th></th>\n",
       "      <th>Precio</th>\n",
       "      <th>Nombre</th>\n",
       "      <th>Precio a operar</th>\n",
       "      <th>Marca</th>\n",
       "    </tr>\n",
       "  </thead>\n",
       "  <tbody>\n",
       "    <tr>\n",
       "      <th>0</th>\n",
       "      <td>9,90 €</td>\n",
       "      <td>Balón Balonmano Matt IH 730 58cm Azul</td>\n",
       "      <td>9.90</td>\n",
       "      <td>Matt</td>\n",
       "    </tr>\n",
       "    <tr>\n",
       "      <th>1</th>\n",
       "      <td>11,95 €</td>\n",
       "      <td>Balón Balonmano Softee Microcelular T/1</td>\n",
       "      <td>11.95</td>\n",
       "      <td>Softee</td>\n",
       "    </tr>\n",
       "    <tr>\n",
       "      <th>2</th>\n",
       "      <td>11,95 €</td>\n",
       "      <td>Balón Balonmano Microcelular New T/1 Verde</td>\n",
       "      <td>11.95</td>\n",
       "      <td>Microcelular</td>\n",
       "    </tr>\n",
       "    <tr>\n",
       "      <th>3</th>\n",
       "      <td>14,90 €</td>\n",
       "      <td>Balón Balonmano Molten H3X1700</td>\n",
       "      <td>14.90</td>\n",
       "      <td>Molten</td>\n",
       "    </tr>\n",
       "    <tr>\n",
       "      <th>4</th>\n",
       "      <td>67,90 €</td>\n",
       "      <td>Balón Balonmano Molten H3X5001</td>\n",
       "      <td>67.90</td>\n",
       "      <td>Molten</td>\n",
       "    </tr>\n",
       "    <tr>\n",
       "      <th>5</th>\n",
       "      <td>11,95 €</td>\n",
       "      <td>Balón Balonmano Microcelular New T/0 Azul</td>\n",
       "      <td>11.95</td>\n",
       "      <td>Microcelular</td>\n",
       "    </tr>\n",
       "    <tr>\n",
       "      <th>6</th>\n",
       "      <td>36,90 €</td>\n",
       "      <td>Balón Balonmano Molten H-X3200</td>\n",
       "      <td>36.90</td>\n",
       "      <td>Molten</td>\n",
       "    </tr>\n",
       "    <tr>\n",
       "      <th>7</th>\n",
       "      <td>25,90 €</td>\n",
       "      <td>Balón Balonmano Molten H0X2200</td>\n",
       "      <td>25.90</td>\n",
       "      <td>Molten</td>\n",
       "    </tr>\n",
       "    <tr>\n",
       "      <th>8</th>\n",
       "      <td>21,90 €</td>\n",
       "      <td>Balón Balonmano Molten H-X1800</td>\n",
       "      <td>21.90</td>\n",
       "      <td>Molten</td>\n",
       "    </tr>\n",
       "    <tr>\n",
       "      <th>9</th>\n",
       "      <td>67,90 €</td>\n",
       "      <td>Balón Balonmano Molten H2X5001</td>\n",
       "      <td>67.90</td>\n",
       "      <td>Molten</td>\n",
       "    </tr>\n",
       "    <tr>\n",
       "      <th>11</th>\n",
       "      <td>12,95 €</td>\n",
       "      <td>Balón Balonmano Softee Flash</td>\n",
       "      <td>12.95</td>\n",
       "      <td>Softee</td>\n",
       "    </tr>\n",
       "    <tr>\n",
       "      <th>12</th>\n",
       "      <td>13,95 €</td>\n",
       "      <td>Balón Balonmano Softee Flash Elite</td>\n",
       "      <td>13.95</td>\n",
       "      <td>Softee</td>\n",
       "    </tr>\n",
       "    <tr>\n",
       "      <th>13</th>\n",
       "      <td>15,90 €</td>\n",
       "      <td>Balón Balonmano Softee Super Flash</td>\n",
       "      <td>15.90</td>\n",
       "      <td>Softee</td>\n",
       "    </tr>\n",
       "    <tr>\n",
       "      <th>14</th>\n",
       "      <td>19,90 €</td>\n",
       "      <td>Balón Balonmano Softee Heros</td>\n",
       "      <td>19.90</td>\n",
       "      <td>Softee</td>\n",
       "    </tr>\n",
       "    <tr>\n",
       "      <th>15</th>\n",
       "      <td>25,90 €</td>\n",
       "      <td>Balón Balonmano Softee Addicted</td>\n",
       "      <td>25.90</td>\n",
       "      <td>Softee</td>\n",
       "    </tr>\n",
       "  </tbody>\n",
       "</table>\n",
       "</div>"
      ],
      "text/plain": [
       "     Precio                                      Nombre  Precio a operar  \\\n",
       "0    9,90 €       Balón Balonmano Matt IH 730 58cm Azul             9.90   \n",
       "1   11,95 €     Balón Balonmano Softee Microcelular T/1            11.95   \n",
       "2   11,95 €  Balón Balonmano Microcelular New T/1 Verde            11.95   \n",
       "3   14,90 €              Balón Balonmano Molten H3X1700            14.90   \n",
       "4   67,90 €              Balón Balonmano Molten H3X5001            67.90   \n",
       "5   11,95 €   Balón Balonmano Microcelular New T/0 Azul            11.95   \n",
       "6   36,90 €              Balón Balonmano Molten H-X3200            36.90   \n",
       "7   25,90 €              Balón Balonmano Molten H0X2200            25.90   \n",
       "8   21,90 €              Balón Balonmano Molten H-X1800            21.90   \n",
       "9   67,90 €              Balón Balonmano Molten H2X5001            67.90   \n",
       "11  12,95 €                Balón Balonmano Softee Flash            12.95   \n",
       "12  13,95 €          Balón Balonmano Softee Flash Elite            13.95   \n",
       "13  15,90 €          Balón Balonmano Softee Super Flash            15.90   \n",
       "14  19,90 €                Balón Balonmano Softee Heros            19.90   \n",
       "15  25,90 €             Balón Balonmano Softee Addicted            25.90   \n",
       "\n",
       "           Marca  \n",
       "0           Matt  \n",
       "1         Softee  \n",
       "2   Microcelular  \n",
       "3         Molten  \n",
       "4         Molten  \n",
       "5   Microcelular  \n",
       "6         Molten  \n",
       "7         Molten  \n",
       "8         Molten  \n",
       "9         Molten  \n",
       "11        Softee  \n",
       "12        Softee  \n",
       "13        Softee  \n",
       "14        Softee  \n",
       "15        Softee  "
      ]
     },
     "execution_count": 43,
     "metadata": {},
     "output_type": "execute_result"
    }
   ],
   "source": [
    "lista1"
   ]
  },
  {
   "cell_type": "code",
   "execution_count": 44,
   "metadata": {},
   "outputs": [
    {
     "data": {
      "image/png": "[encoded data removed]",
      "text/plain": [
       "<Figure size 864x432 with 1 Axes>"
      ]
     },
     "metadata": {},
     "output_type": "display_data"
    }
   ],
   "source": [
    "sns.scatterplot(x=\"Marca\", y=\"Precio a operar\", data=lista1);"
   ]
  },
  {
   "cell_type": "code",
   "execution_count": null,
   "metadata": {},
   "outputs": [],
   "source": []
  },
  {
   "cell_type": "code",
   "execution_count": null,
   "metadata": {},
   "outputs": [],
   "source": [
    "#featured-product-8981340 > figcaption > div.featured-product-title.featured-title > a\n",
    "#featured-product-8980794 > figcaption > div.featured-product-title.featured-title > a\n",
    "#featured-product-8980417 > figcaption > div.featured-product-title.featured-title > a\n",
    "#featured-product-8955100 > figcaption > div.featured-product-title.featured-title > a"
   ]
  },
  {
   "cell_type": "code",
   "execution_count": null,
   "metadata": {},
   "outputs": [],
   "source": [
    "#featured-product-8955100 > div > a > img\n",
    "#featured-product-8954965 > div > a > img"
   ]
  },
  {
   "cell_type": "code",
   "execution_count": null,
   "metadata": {},
   "outputs": [],
   "source": []
  },
  {
   "cell_type": "code",
   "execution_count": null,
   "metadata": {},
   "outputs": [],
   "source": [
    "#buyForm453 > div.product-list-info > a > h3\n",
    "#buyForm53 > div.product-list-info > a > h3\n",
    "#buyForm37 > div.product-list-info > a > h3"
   ]
  },
  {
   "cell_type": "code",
   "execution_count": null,
   "metadata": {},
   "outputs": [],
   "source": [
    "#center_column > div.box-content > div.product_list.grid.clearfix > div:nth-child(1) > div > div.right-block > div.product_name_block > h5 > a\n",
    "#center_column > div.box-content > div.product_list.grid.clearfix > div:nth-child(2) > div > div.right-block > div.product_name_block > h5 > a\n",
    "#center_column > div.box-content > div.product_list.grid.clearfix > div:nth-child(3) > div > div.right-block > div.product_name_block > h5 > a\n",
    "#center_column > div.box-content > div.product_list.grid.clearfix > div:nth-child(4) > div > div.right-block > div.product_name_block > h5 > a\n",
    "#center_column > div.box-content > div.product_list.grid.clearfix > div:nth-child(11) > div > div.right-block > div.product_name_block > h5\n",
    "#center_column > div.box-content > div.product_list.grid.clearfix > div.product_block.ajax_block_product.col-xs-6.col-sm-6.col-md-3.first-in-line.last-line.first-item-of-tablet-line.first-item-of-mobile-line > div > div.right-block > div.product_name_block > h5 > a\n",
    "#center_column > div.box-content > div.product_list.grid.clearfix > div.product_block.ajax_block_product.col-xs-6.col-sm-6.col-md-3.first-in-line.last-line.first-item-of-tablet-line.first-item-of-mobile-line > div > div.right-block > div.product_name_block\n",
    "\n",
    "#center_column > div.box-content > div.product_list.grid.clearfix > div.product_block.ajax_block_product.col-xs-6.col-sm-6.col-md-3.last-line.first-item-of-tablet-line.first-item-of-mobile-line.last-mobile-line > div > div.right-block > div.product_name_block > h5 > a\n",
    "#center_column > div.box-content > div.product_list.grid.clearfix > div:nth-child(14) > div > div.right-block > div.product_name_block > h5 > a\n",
    "#center_column > div.box-content > div.product_list.grid.clearfix > div.product_block.ajax_block_product.col-xs-6.col-sm-6.col-md-3.last-in-line.last-line.last-item-of-tablet-line.last-item-of-mobile-line.last-mobile-line > div > div.right-block > div.product_name_block\n",
    "#center_column > div.box-content > div.product_list.grid.clearfix > div.product_block.ajax_block_product.col-xs-6.col-sm-6.col-md-3.last-line.first-item-of-tablet-line.first-item-of-mobile-line.last-mobile-line > div > div.right-block > div.product_name_block > h5 > a\n",
    "#center_column > div.box-content > div.product_list.grid.clearfix > div.product_block.ajax_block_product.col-xs-6.col-sm-6.col-md-3.last-in-line.last-line.last-item-of-tablet-line.last-item-of-mobile-line.last-mobile-line > div > div.right-block > div.product_name_block > h5 > a\n",
    "#center_column > div.box-content > div.product_list.grid.clearfix > div.product_block.ajax_block_product.col-xs-6.col-sm-6.col-md-3.last-in-line.last-line.last-item-of-tablet-line.last-item-of-mobile-line.last-mobile-line > div > div.right-block > div.product_name_block > h5 > a"
   ]
  },
  {
   "cell_type": "code",
   "execution_count": null,
   "metadata": {},
   "outputs": [],
   "source": []
  },
  {
   "cell_type": "code",
   "execution_count": null,
   "metadata": {},
   "outputs": [],
   "source": []
  },
  {
   "cell_type": "code",
   "execution_count": null,
   "metadata": {},
   "outputs": [],
   "source": []
  }
 ],
 "metadata": {
  "interpreter": {
   "hash": "7c5ad4df39bf06a9eb4fb459b3b63eb25b4f3b680f8fa78ceb9dcffa768664c7"
  },
  "kernelspec": {
   "display_name": "ironhack",
   "language": "python",
   "name": "ironhack"
  },
  "language_info": {
   "codemirror_mode": {
    "name": "ipython",
    "version": 3
   },
   "file_extension": ".py",
   "mimetype": "text/x-python",
   "name": "python",
   "nbconvert_exporter": "python",
   "pygments_lexer": "ipython3",
   "version": "3.8.5"
  },
  "toc": {
   "base_numbering": 1,
   "nav_menu": {},
   "number_sections": true,
   "sideBar": true,
   "skip_h1_title": false,
   "title_cell": "Table of Contents",
   "title_sidebar": "Contents",
   "toc_cell": true,
   "toc_position": {},
   "toc_section_display": true,
   "toc_window_display": false
  }
 },
 "nbformat": 4,
 "nbformat_minor": 2
}
