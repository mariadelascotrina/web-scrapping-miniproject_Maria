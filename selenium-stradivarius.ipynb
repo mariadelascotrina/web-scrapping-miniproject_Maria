{
 "cells": [
  {
   "cell_type": "markdown",
   "metadata": {},
   "source": [
    "# Selenium "
   ]
  },
  {
   "cell_type": "code",
   "execution_count": 4,
   "metadata": {},
   "outputs": [],
   "source": [
    "from selenium import webdriver\n",
    "from selenium.webdriver.chrome.options import Options\n",
    "import time\n",
    "import pandas as pd\n",
    "from selenium.webdriver.support.ui import Select\n",
    "from webdriver_manager.chrome import ChromeDriverManager"
   ]
  },
  {
   "cell_type": "code",
   "execution_count": 27,
   "metadata": {},
   "outputs": [
    {
     "name": "stderr",
     "output_type": "stream",
     "text": [
      "<ipython-input-27-9ed6949e45e0>:2: DeprecationWarning: executable_path has been deprecated, please pass in a Service object\n",
      "  driver = webdriver.Chrome(driver)\n",
      "<ipython-input-27-9ed6949e45e0>:6: DeprecationWarning: find_element_by_* commands are deprecated. Please use find_element() instead\n",
      "  driver.find_element_by_css_selector(\"#onetrust-accept-btn-handler\").click()\n",
      "<ipython-input-27-9ed6949e45e0>:7: DeprecationWarning: find_element_by_* commands are deprecated. Please use find_element() instead\n",
      "  driver.find_element_by_css_selector(\"#search_icon_button > span.icon-button.icon-outline-search\").click()\n",
      "<ipython-input-27-9ed6949e45e0>:8: DeprecationWarning: find_element_by_* commands are deprecated. Please use find_element() instead\n",
      "  driver.find_element_by_css_selector(\"#search_icon_button > span.icon-button.icon-outline-search\").send_keys(\" botines\")\n",
      "<ipython-input-27-9ed6949e45e0>:9: DeprecationWarning: find_element_by_* commands are deprecated. Please use find_element() instead\n",
      "  driver.find_element_by_css_selector(\"#header > div.header-content > div.header-content-search > div.search-box > div.search-icon.icon-outline-search.active\").click()\n",
      "<ipython-input-27-9ed6949e45e0>:10: DeprecationWarning: find_element_by_* commands are deprecated. Please use find_element() instead\n",
      "  x = driver.find_element_by_css_selector(\"#product-key-id-27071089 > div > div._2y5JN > span.product-name.sg-text-body-small._2uGDp\").text\n"
     ]
    },
    {
     "data": {
      "text/plain": [
       "'Botín piel tacón'"
      ]
     },
     "execution_count": 27,
     "metadata": {},
     "output_type": "execute_result"
    }
   ],
   "source": [
    "driver = \"./chromedriver.exe\"\n",
    "driver = webdriver.Chrome(driver)\n",
    "driver.get(\"https://shop.mango.com/es/mujer?gclid=CjwKCAiAnO2MBhApEiwA8q0HYdSCnOhCYKdtdU7A0LCPNe9a4-NjtPezyUaCqBeSSy4Hr74bA4wuzhoClusQAvD_BwE&gclsrc=aw.ds\")\n",
    "driver.implicitly_wait(2) # is like a time.sleep but specific of selenium\n",
    "\n",
    "driver.find_element_by_css_selector(\"#onetrust-accept-btn-handler\").click()\n",
    "driver.find_element_by_css_selector(\"#search_icon_button > span.icon-button.icon-outline-search\").click()\n",
    "driver.find_element_by_css_selector(\"#search_icon_button > span.icon-button.icon-outline-search\").send_keys(\" botines\")\n",
    "driver.find_element_by_css_selector(\"#header > div.header-content > div.header-content-search > div.search-box > div.search-icon.icon-outline-search.active\").click()\n",
    "\n",
    "try:\n",
    "x = driver.find_element_by_css_selector(\"#product-key-id-27071089 > div > div._2y5JN > span.product-name.sg-text-body-small._2uGDp\").text\n",
    "x\n",
    "\n"
   ]
  },
  {
   "cell_type": "code",
   "execution_count": null,
   "metadata": {},
   "outputs": [],
   "source": [
    "\n",
    "    #product-key-id-27091139 > div > div._2y5JN > span\n",
    "    #product-key-id-17085918 > div > div._2y5JN > span\n",
    "#g17032886 > div > div.swiper-wrapper > div.swiper-slide.swiper-no-swiping.swiper-slide-active > img\n",
    "#product-key-id-17032886 > div\n"
   ]
  },
  {
   "cell_type": "code",
   "execution_count": null,
   "metadata": {},
   "outputs": [],
   "source": []
  },
  {
   "cell_type": "code",
   "execution_count": null,
   "metadata": {},
   "outputs": [],
   "source": []
  },
  {
   "cell_type": "code",
   "execution_count": null,
   "metadata": {},
   "outputs": [],
   "source": []
  },
  {
   "cell_type": "code",
   "execution_count": null,
   "metadata": {},
   "outputs": [],
   "source": []
  },
  {
   "cell_type": "code",
   "execution_count": null,
   "metadata": {},
   "outputs": [],
   "source": []
  },
  {
   "cell_type": "code",
   "execution_count": null,
   "metadata": {},
   "outputs": [],
   "source": []
  },
  {
   "cell_type": "code",
   "execution_count": null,
   "metadata": {},
   "outputs": [],
   "source": []
  }
 ],
 "metadata": {
  "interpreter": {
   "hash": "7c5ad4df39bf06a9eb4fb459b3b63eb25b4f3b680f8fa78ceb9dcffa768664c7"
  },
  "kernelspec": {
   "display_name": "ironhack",
   "language": "python",
   "name": "ironhack"
  },
  "language_info": {
   "codemirror_mode": {
    "name": "ipython",
    "version": 3
   },
   "file_extension": ".py",
   "mimetype": "text/x-python",
   "name": "python",
   "nbconvert_exporter": "python",
   "pygments_lexer": "ipython3",
   "version": "3.8.5"
  },
  "toc": {
   "base_numbering": 1,
   "nav_menu": {},
   "number_sections": true,
   "sideBar": true,
   "skip_h1_title": false,
   "title_cell": "Table of Contents",
   "title_sidebar": "Contents",
   "toc_cell": true,
   "toc_position": {},
   "toc_section_display": true,
   "toc_window_display": false
  }
 },
 "nbformat": 4,
 "nbformat_minor": 2
}
